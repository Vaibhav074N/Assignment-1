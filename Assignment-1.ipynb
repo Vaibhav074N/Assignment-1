{
 "cells": [
  {
   "cell_type": "code",
   "execution_count": null,
   "id": "3625968e-63bf-4c41-9953-abb68b2e3728",
   "metadata": {},
   "outputs": [],
   "source": [
    "num_rows = int(input(\"Enter a number of rows: \"))\n",
    "row=0\n",
    "while row<num_rows:\n",
    "    row = row + 1\n",
    "    space = num_rows-row\n",
    "    space_counter=0\n",
    "    while space_counter<space:\n",
    "        print(\" \",end='')\n",
    "        space_counter += 1\n",
    "    stars = 2*row-1\n",
    "    while stars>0:\n",
    "        print('*',end='')\n",
    "        stars -= 1\n",
    "    print()"
   ]
  }
 ],
 "metadata": {
  "kernelspec": {
   "display_name": "Python 3 (ipykernel)",
   "language": "python",
   "name": "python3"
  },
  "language_info": {
   "codemirror_mode": {
    "name": "ipython",
    "version": 3
   },
   "file_extension": ".py",
   "mimetype": "text/x-python",
   "name": "python",
   "nbconvert_exporter": "python",
   "pygments_lexer": "ipython3",
   "version": "3.10.8"
  }
 },
 "nbformat": 4,
 "nbformat_minor": 5
}
